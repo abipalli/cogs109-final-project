{
 "cells": [
  {
   "cell_type": "code",
   "execution_count": 1,
   "metadata": {},
   "outputs": [],
   "source": [
    "import warnings\n",
    "warnings.filterwarnings('ignore')"
   ]
  },
  {
   "cell_type": "code",
   "execution_count": 2,
   "metadata": {
    "colab": {},
    "colab_type": "code",
    "id": "8RWmHEPcoelR"
   },
   "outputs": [],
   "source": [
    "# import scipy.io as sio\n",
    "# from scipy.io import arff\n",
    "# import matplotlib.pyplot as plt\n",
    "# import numpy as np\n",
    "# import pandas as pd\n",
    "# import csv\n",
    "# import io\n",
    "# import math\n",
    "# import statistics\n",
    "# from sklearn.decomposition import PCA\n",
    "# from sklearn import tree\n",
    "# from sklearn import ensemble\n",
    "# from sklearn import neighbors\n",
    "# from sklearn import svm\n",
    "# from IPython.display import display\n",
    "# from sklearn.model_selection import GridSearchCV\n",
    "# from scipy.linalg import svd\n",
    "# %config InlineBackend.figure_format = 'retina'\n",
    "\n",
    "import pandas as pd"
   ]
  },
  {
   "cell_type": "markdown",
   "metadata": {
    "colab_type": "text",
    "id": "kcuGb44rwX0l"
   },
   "source": [
    "# 1. Preparing Dataset"
   ]
  },
  {
   "cell_type": "markdown",
   "metadata": {},
   "source": [
    "Import `red_df` and `white_df` datasets"
   ]
  },
  {
   "cell_type": "code",
   "execution_count": 3,
   "metadata": {
    "colab": {},
    "colab_type": "code",
    "id": "LMLbXBNqpDda"
   },
   "outputs": [],
   "source": [
    "red_df = pd.read_csv(\"winequality_red.csv\")\n",
    "white_df = pd.read_csv(\"winequality_white.csv\")"
   ]
  },
  {
   "cell_type": "markdown",
   "metadata": {},
   "source": [
    "Check out the `red_df` and `white_df` datasets"
   ]
  },
  {
   "cell_type": "code",
   "execution_count": 4,
   "metadata": {
    "colab": {
     "base_uri": "https://localhost:8080/",
     "height": 204
    },
    "colab_type": "code",
    "id": "z_alQXPrujz-",
    "outputId": "a540a3db-ac9e-47a8-a64b-e4677f56b33c"
   },
   "outputs": [
    {
     "data": {
      "text/html": [
       "<div>\n",
       "<style scoped>\n",
       "    .dataframe tbody tr th:only-of-type {\n",
       "        vertical-align: middle;\n",
       "    }\n",
       "\n",
       "    .dataframe tbody tr th {\n",
       "        vertical-align: top;\n",
       "    }\n",
       "\n",
       "    .dataframe thead th {\n",
       "        text-align: right;\n",
       "    }\n",
       "</style>\n",
       "<table border=\"1\" class=\"dataframe\">\n",
       "  <thead>\n",
       "    <tr style=\"text-align: right;\">\n",
       "      <th></th>\n",
       "      <th>fixed acidity</th>\n",
       "      <th>volatile acidity</th>\n",
       "      <th>citric acid</th>\n",
       "      <th>residual sugar</th>\n",
       "      <th>chlorides</th>\n",
       "      <th>free sulfur dioxide</th>\n",
       "      <th>total sulfur dioxide</th>\n",
       "      <th>density</th>\n",
       "      <th>pH</th>\n",
       "      <th>sulphates</th>\n",
       "      <th>alcohol</th>\n",
       "      <th>quality</th>\n",
       "    </tr>\n",
       "  </thead>\n",
       "  <tbody>\n",
       "    <tr>\n",
       "      <td>0</td>\n",
       "      <td>7.4</td>\n",
       "      <td>0.70</td>\n",
       "      <td>0.00</td>\n",
       "      <td>1.9</td>\n",
       "      <td>0.076</td>\n",
       "      <td>11.0</td>\n",
       "      <td>34.0</td>\n",
       "      <td>0.9978</td>\n",
       "      <td>3.51</td>\n",
       "      <td>0.56</td>\n",
       "      <td>9.4</td>\n",
       "      <td>5</td>\n",
       "    </tr>\n",
       "    <tr>\n",
       "      <td>1</td>\n",
       "      <td>7.8</td>\n",
       "      <td>0.88</td>\n",
       "      <td>0.00</td>\n",
       "      <td>2.6</td>\n",
       "      <td>0.098</td>\n",
       "      <td>25.0</td>\n",
       "      <td>67.0</td>\n",
       "      <td>0.9968</td>\n",
       "      <td>3.20</td>\n",
       "      <td>0.68</td>\n",
       "      <td>9.8</td>\n",
       "      <td>5</td>\n",
       "    </tr>\n",
       "    <tr>\n",
       "      <td>2</td>\n",
       "      <td>7.8</td>\n",
       "      <td>0.76</td>\n",
       "      <td>0.04</td>\n",
       "      <td>2.3</td>\n",
       "      <td>0.092</td>\n",
       "      <td>15.0</td>\n",
       "      <td>54.0</td>\n",
       "      <td>0.9970</td>\n",
       "      <td>3.26</td>\n",
       "      <td>0.65</td>\n",
       "      <td>9.8</td>\n",
       "      <td>5</td>\n",
       "    </tr>\n",
       "    <tr>\n",
       "      <td>3</td>\n",
       "      <td>11.2</td>\n",
       "      <td>0.28</td>\n",
       "      <td>0.56</td>\n",
       "      <td>1.9</td>\n",
       "      <td>0.075</td>\n",
       "      <td>17.0</td>\n",
       "      <td>60.0</td>\n",
       "      <td>0.9980</td>\n",
       "      <td>3.16</td>\n",
       "      <td>0.58</td>\n",
       "      <td>9.8</td>\n",
       "      <td>6</td>\n",
       "    </tr>\n",
       "    <tr>\n",
       "      <td>4</td>\n",
       "      <td>7.4</td>\n",
       "      <td>0.70</td>\n",
       "      <td>0.00</td>\n",
       "      <td>1.9</td>\n",
       "      <td>0.076</td>\n",
       "      <td>11.0</td>\n",
       "      <td>34.0</td>\n",
       "      <td>0.9978</td>\n",
       "      <td>3.51</td>\n",
       "      <td>0.56</td>\n",
       "      <td>9.4</td>\n",
       "      <td>5</td>\n",
       "    </tr>\n",
       "  </tbody>\n",
       "</table>\n",
       "</div>"
      ],
      "text/plain": [
       "   fixed acidity  volatile acidity  citric acid  residual sugar  chlorides  \\\n",
       "0            7.4              0.70         0.00             1.9      0.076   \n",
       "1            7.8              0.88         0.00             2.6      0.098   \n",
       "2            7.8              0.76         0.04             2.3      0.092   \n",
       "3           11.2              0.28         0.56             1.9      0.075   \n",
       "4            7.4              0.70         0.00             1.9      0.076   \n",
       "\n",
       "   free sulfur dioxide  total sulfur dioxide  density    pH  sulphates  \\\n",
       "0                 11.0                  34.0   0.9978  3.51       0.56   \n",
       "1                 25.0                  67.0   0.9968  3.20       0.68   \n",
       "2                 15.0                  54.0   0.9970  3.26       0.65   \n",
       "3                 17.0                  60.0   0.9980  3.16       0.58   \n",
       "4                 11.0                  34.0   0.9978  3.51       0.56   \n",
       "\n",
       "   alcohol  quality  \n",
       "0      9.4        5  \n",
       "1      9.8        5  \n",
       "2      9.8        5  \n",
       "3      9.8        6  \n",
       "4      9.4        5  "
      ]
     },
     "execution_count": 4,
     "metadata": {},
     "output_type": "execute_result"
    }
   ],
   "source": [
    "red_df.head()"
   ]
  },
  {
   "cell_type": "code",
   "execution_count": 5,
   "metadata": {},
   "outputs": [
    {
     "data": {
      "text/html": [
       "<div>\n",
       "<style scoped>\n",
       "    .dataframe tbody tr th:only-of-type {\n",
       "        vertical-align: middle;\n",
       "    }\n",
       "\n",
       "    .dataframe tbody tr th {\n",
       "        vertical-align: top;\n",
       "    }\n",
       "\n",
       "    .dataframe thead th {\n",
       "        text-align: right;\n",
       "    }\n",
       "</style>\n",
       "<table border=\"1\" class=\"dataframe\">\n",
       "  <thead>\n",
       "    <tr style=\"text-align: right;\">\n",
       "      <th></th>\n",
       "      <th>fixed acidity</th>\n",
       "      <th>volatile acidity</th>\n",
       "      <th>citric acid</th>\n",
       "      <th>residual sugar</th>\n",
       "      <th>chlorides</th>\n",
       "      <th>free sulfur dioxide</th>\n",
       "      <th>total sulfur dioxide</th>\n",
       "      <th>density</th>\n",
       "      <th>pH</th>\n",
       "      <th>sulphates</th>\n",
       "      <th>alcohol</th>\n",
       "      <th>quality</th>\n",
       "    </tr>\n",
       "  </thead>\n",
       "  <tbody>\n",
       "    <tr>\n",
       "      <td>0</td>\n",
       "      <td>7.0</td>\n",
       "      <td>0.27</td>\n",
       "      <td>0.36</td>\n",
       "      <td>20.7</td>\n",
       "      <td>0.045</td>\n",
       "      <td>45.0</td>\n",
       "      <td>170.0</td>\n",
       "      <td>1.0010</td>\n",
       "      <td>3.00</td>\n",
       "      <td>0.45</td>\n",
       "      <td>8.8</td>\n",
       "      <td>6</td>\n",
       "    </tr>\n",
       "    <tr>\n",
       "      <td>1</td>\n",
       "      <td>6.3</td>\n",
       "      <td>0.30</td>\n",
       "      <td>0.34</td>\n",
       "      <td>1.6</td>\n",
       "      <td>0.049</td>\n",
       "      <td>14.0</td>\n",
       "      <td>132.0</td>\n",
       "      <td>0.9940</td>\n",
       "      <td>3.30</td>\n",
       "      <td>0.49</td>\n",
       "      <td>9.5</td>\n",
       "      <td>6</td>\n",
       "    </tr>\n",
       "    <tr>\n",
       "      <td>2</td>\n",
       "      <td>8.1</td>\n",
       "      <td>0.28</td>\n",
       "      <td>0.40</td>\n",
       "      <td>6.9</td>\n",
       "      <td>0.050</td>\n",
       "      <td>30.0</td>\n",
       "      <td>97.0</td>\n",
       "      <td>0.9951</td>\n",
       "      <td>3.26</td>\n",
       "      <td>0.44</td>\n",
       "      <td>10.1</td>\n",
       "      <td>6</td>\n",
       "    </tr>\n",
       "    <tr>\n",
       "      <td>3</td>\n",
       "      <td>7.2</td>\n",
       "      <td>0.23</td>\n",
       "      <td>0.32</td>\n",
       "      <td>8.5</td>\n",
       "      <td>0.058</td>\n",
       "      <td>47.0</td>\n",
       "      <td>186.0</td>\n",
       "      <td>0.9956</td>\n",
       "      <td>3.19</td>\n",
       "      <td>0.40</td>\n",
       "      <td>9.9</td>\n",
       "      <td>6</td>\n",
       "    </tr>\n",
       "    <tr>\n",
       "      <td>4</td>\n",
       "      <td>7.2</td>\n",
       "      <td>0.23</td>\n",
       "      <td>0.32</td>\n",
       "      <td>8.5</td>\n",
       "      <td>0.058</td>\n",
       "      <td>47.0</td>\n",
       "      <td>186.0</td>\n",
       "      <td>0.9956</td>\n",
       "      <td>3.19</td>\n",
       "      <td>0.40</td>\n",
       "      <td>9.9</td>\n",
       "      <td>6</td>\n",
       "    </tr>\n",
       "  </tbody>\n",
       "</table>\n",
       "</div>"
      ],
      "text/plain": [
       "   fixed acidity  volatile acidity  citric acid  residual sugar  chlorides  \\\n",
       "0            7.0              0.27         0.36            20.7      0.045   \n",
       "1            6.3              0.30         0.34             1.6      0.049   \n",
       "2            8.1              0.28         0.40             6.9      0.050   \n",
       "3            7.2              0.23         0.32             8.5      0.058   \n",
       "4            7.2              0.23         0.32             8.5      0.058   \n",
       "\n",
       "   free sulfur dioxide  total sulfur dioxide  density    pH  sulphates  \\\n",
       "0                 45.0                 170.0   1.0010  3.00       0.45   \n",
       "1                 14.0                 132.0   0.9940  3.30       0.49   \n",
       "2                 30.0                  97.0   0.9951  3.26       0.44   \n",
       "3                 47.0                 186.0   0.9956  3.19       0.40   \n",
       "4                 47.0                 186.0   0.9956  3.19       0.40   \n",
       "\n",
       "   alcohol  quality  \n",
       "0      8.8        6  \n",
       "1      9.5        6  \n",
       "2     10.1        6  \n",
       "3      9.9        6  \n",
       "4      9.9        6  "
      ]
     },
     "execution_count": 5,
     "metadata": {},
     "output_type": "execute_result"
    }
   ],
   "source": [
    "white_df.head()"
   ]
  },
  {
   "cell_type": "markdown",
   "metadata": {},
   "source": [
    "Concatenate `red_df` and `white_df` into a single dataset `dat`."
   ]
  },
  {
   "cell_type": "code",
   "execution_count": 6,
   "metadata": {
    "colab": {},
    "colab_type": "code",
    "id": "-32v_UBzva3b"
   },
   "outputs": [],
   "source": [
    "# Merge the `red whine` and `white wine` datasets together into a Dataframe\n",
    "# red_df['type'] = 0\n",
    "# white_df['type'] = 1\n",
    "# dat = pd.concat([red_df, white_df])\n",
    "dat = pd.concat([red_df])"
   ]
  },
  {
   "cell_type": "markdown",
   "metadata": {},
   "source": [
    "Define custom feature titled `high_worth`, which will detail the case study in determining whether or not the restaurant should markup the price of the wine, provided certain mature qualities that our model will determine to be key features."
   ]
  },
  {
   "cell_type": "code",
   "execution_count": 7,
   "metadata": {},
   "outputs": [
    {
     "data": {
      "text/plain": [
       "'number of features: 13'"
      ]
     },
     "execution_count": 7,
     "metadata": {},
     "output_type": "execute_result"
    }
   ],
   "source": [
    "# concatenate custom feature\n",
    "dat['high_worth'] = 1\n",
    "dat.high_worth[dat['quality'] < 8] = 0\n",
    "\n",
    "\"number of features: \" + str(len(dat.columns))"
   ]
  },
  {
   "cell_type": "code",
   "execution_count": 8,
   "metadata": {},
   "outputs": [],
   "source": [
    "Y_features = ['quality','high_worth']\n",
    "X_features = [c for c in dat.columns.tolist() if c not in Y_features]"
   ]
  },
  {
   "cell_type": "markdown",
   "metadata": {},
   "source": [
    "Set what type of predictor (`QUALITY` or `HIGH WORTH`) we want the model to train and fit for. <br>\n",
    "\n",
    "`QUALITY` will have the predictor fit the model to determine a wine's quality score. <br>\n",
    "`HIGH WORTH` will determine whether or not the restaurant should consider mark up the price of the wine based on maturing parameters."
   ]
  },
  {
   "cell_type": "code",
   "execution_count": 9,
   "metadata": {},
   "outputs": [],
   "source": [
    "predictor = 'QUALITY'"
   ]
  },
  {
   "cell_type": "code",
   "execution_count": 10,
   "metadata": {},
   "outputs": [],
   "source": [
    "if predictor.lower() == 'quality':\n",
    "    Y_features = ['quality']\n",
    "else:\n",
    "    Y_features = ['high_worth']"
   ]
  },
  {
   "cell_type": "code",
   "execution_count": 11,
   "metadata": {
    "scrolled": true
   },
   "outputs": [
    {
     "name": "stdout",
     "output_type": "stream",
     "text": [
      "Y_features 1 ['quality']\n",
      "X_features 11 ['fixed acidity', 'volatile acidity', 'citric acid', 'residual sugar', 'chlorides', 'free sulfur dioxide', 'total sulfur dioxide', 'density', 'pH', 'sulphates', 'alcohol']\n"
     ]
    }
   ],
   "source": [
    "print(\"Y_features\", len(Y_features), Y_features)\n",
    "print(\"X_features\", len(X_features), X_features)"
   ]
  },
  {
   "cell_type": "markdown",
   "metadata": {},
   "source": [
    "## Artifacts:\n",
    "- `red_df`: pandas DataFrame of red wine\n",
    "- `white_df`: pandas DataFrame of white wine\n",
    "- `X_features`: independent features of table\n",
    "- `Y_features`: dependent feature to be predicted by the model"
   ]
  },
  {
   "cell_type": "markdown",
   "metadata": {},
   "source": [
    "# 2. Explore the Dataset"
   ]
  },
  {
   "cell_type": "markdown",
   "metadata": {},
   "source": [
    "## 2.1 Understanding the Features\n",
    "- `fixed acidity`: most acids involved with wine or fixed or nonvolatile (do not evaporate friendly)\n",
    "- `volatile acidity`: the amount of acetic acid in wine, which at high levels can lead to an unpleasant vinegar taste\n",
    "- `citric acid`: found in small quantities, citric acid can add 'freshness' and flavor to wines\n",
    "- `residual sugar`: the amount of sugar remaining after fermentation stops, it's rare to find wines with less than 1 fram/liter and wines with greater than 45 grams/liter are considered sweet\n",
    "- `chlorides`: the amount of salt in the wine\n",
    "- `free sulfur dioxide`: the free form of SO2 exists in equilibtrium between molecular SO2 (dissolved gas) and bisulfite ion; it prevents microbial groth and the oxidation of wine\n",
    "- `total sulfur dioxide`: amount of free and bound forms of SO2; in low concentrations, SO2 is mostly undetectable in wine, but becomes evident in the smell and taste at free SO2 concetrations over 50 ppm\n",
    "- `density`: the density of water is close to that of water depending on the percent alcohol and sugar content\n",
    "- `pH`: describes how acidic or basic a wine is on a scale from 0 (very acidic) to 14 (very basic); most wines are between 3-4 pH\n",
    "- `sulfates`: wine additive that contributes to SO2 contentrations in the wine\n",
    "- `alchohol`: the alcohol content concentration of the wine\n",
    "<br><br>\n",
    "- `quality`: score between 0 to 10\n",
    "- `high_worth`: custom score annotated to wines that perform a `quality` score ≥ 8, provided that average wines score ~7"
   ]
  },
  {
   "cell_type": "code",
   "execution_count": 12,
   "metadata": {},
   "outputs": [],
   "source": [
    "import matplotlib.pyplot as plt\n",
    "import seaborn as sns"
   ]
  },
  {
   "cell_type": "code",
   "execution_count": 13,
   "metadata": {},
   "outputs": [
    {
     "data": {
      "image/png": "[encoded data removed]",
      "text/plain": [
       "<Figure size 432x288 with 2 Axes>"
      ]
     },
     "metadata": {
      "needs_background": "light"
     },
     "output_type": "display_data"
    }
   ],
   "source": [
    "corr = dat.corr()\n",
    "\n",
    "ax = plt.axes()\n",
    "ax.set_title('Feature Correlations')\n",
    "ax = sns.heatmap(corr, ax=ax, square=True)"
   ]
  },
  {
   "cell_type": "code",
   "execution_count": 14,
   "metadata": {},
   "outputs": [],
   "source": [
    "# Separating out the features\n",
    "x = dat.loc[:, X_features].values\n",
    "# Separating out the target\n",
    "y = dat.loc[:, Y_features].values"
   ]
  },
  {
   "cell_type": "markdown",
   "metadata": {},
   "source": [
    "# 3. `k` Best Features ✕ `n`-KNN\n",
    "First attempted to disect the relative correlations between the different parameters collected about each wine and how it generally influences the target variable `quality`."
   ]
  },
  {
   "cell_type": "code",
   "execution_count": 66,
   "metadata": {},
   "outputs": [],
   "source": [
    "from sklearn.feature_selection import SelectKBest\n",
    "from sklearn.feature_selection import chi2\n",
    "\n",
    "from sklearn.metrics import accuracy_score\n",
    "from sklearn.metrics import mean_squared_error\n",
    "\n",
    "from sklearn.model_selection import train_test_split\n",
    "\n",
    "from sklearn.neighbors import KNeighborsClassifier"
   ]
  },
  {
   "cell_type": "code",
   "execution_count": 67,
   "metadata": {},
   "outputs": [],
   "source": [
    "from progress.bar import Bar"
   ]
  },
  {
   "cell_type": "code",
   "execution_count": 68,
   "metadata": {},
   "outputs": [],
   "source": [
    "x_features = list(X_features)\n",
    "\n",
    "knn_neighbors_n = [1]+list(range(5,50,5))\n",
    "\n",
    "kbest_mses = {}\n",
    "\n",
    "bar = Bar('computing accuracies...', max=len(X_features))\n",
    "for k in range(len(X_features), 0, -1):\n",
    "    mse_sums = {n:0 for n in knn_neighbors_n}\n",
    "    for ki in range(100):\n",
    "        # Split the data\n",
    "        train_X, test_X, train_y, test_y = train_test_split(x, y, test_size=1/5, random_state=0)\n",
    "\n",
    "        # Apply SelectKBest class to extract top 10 best features    \n",
    "        bestfeatures = SelectKBest(score_func=chi2, k=k).fit(train_X, train_y)\n",
    "        featurelist = [X_features[i] for i,v in enumerate(bestfeatures.get_support()) if bestfeatures.get_support()[i]]\n",
    "\n",
    "        # Apply feature filtering to the testset\n",
    "        train_X = bestfeatures.transform(train_X)\n",
    "        test_X  = bestfeatures.transform(test_X)\n",
    "        \n",
    "        # Consider different options of k nearest neighbors        \n",
    "        for n in knn_neighbors_n:\n",
    "            knn = KNeighborsClassifier(n_neighbors=n).fit(train_X, train_y)            \n",
    "            \n",
    "            mse_sums[n] += mean_squared_error(test_y, knn.predict(test_X))\n",
    "    mse_sums = {n:mse_sums[n]/100. for n in knn_neighbors_n}\n",
    "    \n",
    "    kbest_mses[k] = mse_sums\n",
    "    \n",
    "    bar.next()\n",
    "    \n",
    "bar.finish()"
   ]
  },
  {
   "cell_type": "code",
   "execution_count": 73,
   "metadata": {
    "scrolled": false
   },
   "outputs": [
    {
     "name": "stdout",
     "output_type": "stream",
     "text": [
      "n-KNN vs k Best Features\n"
     ]
    },
    {
     "data": {
      "text/html": [
       "<style  type=\"text/css\" >\n",
       "    #T_63d2132e_15b9_11ea_9ac4_784f43554d73row3_col2 {\n",
       "            background-color:  yellow;\n",
       "        }    #T_63d2132e_15b9_11ea_9ac4_784f43554d73row3_col3 {\n",
       "            background-color:  yellow;\n",
       "        }    #T_63d2132e_15b9_11ea_9ac4_784f43554d73row4_col4 {\n",
       "            background-color:  yellow;\n",
       "        }    #T_63d2132e_15b9_11ea_9ac4_784f43554d73row5_col0 {\n",
       "            background-color:  yellow;\n",
       "        }    #T_63d2132e_15b9_11ea_9ac4_784f43554d73row5_col1 {\n",
       "            background-color:  yellow;\n",
       "        }    #T_63d2132e_15b9_11ea_9ac4_784f43554d73row5_col5 {\n",
       "            background-color:  yellow;\n",
       "        }    #T_63d2132e_15b9_11ea_9ac4_784f43554d73row5_col10 {\n",
       "            background-color:  yellow;\n",
       "        }    #T_63d2132e_15b9_11ea_9ac4_784f43554d73row6_col6 {\n",
       "            background-color:  yellow;\n",
       "        }    #T_63d2132e_15b9_11ea_9ac4_784f43554d73row6_col7 {\n",
       "            background-color:  yellow;\n",
       "        }    #T_63d2132e_15b9_11ea_9ac4_784f43554d73row6_col8 {\n",
       "            background-color:  yellow;\n",
       "        }    #T_63d2132e_15b9_11ea_9ac4_784f43554d73row7_col9 {\n",
       "            background-color:  yellow;\n",
       "        }</style><table id=\"T_63d2132e_15b9_11ea_9ac4_784f43554d73\" ><thead>    <tr>        <th class=\"blank level0\" ></th>        <th class=\"col_heading level0 col0\" >11</th>        <th class=\"col_heading level0 col1\" >10</th>        <th class=\"col_heading level0 col2\" >9</th>        <th class=\"col_heading level0 col3\" >8</th>        <th class=\"col_heading level0 col4\" >7</th>        <th class=\"col_heading level0 col5\" >6</th>        <th class=\"col_heading level0 col6\" >5</th>        <th class=\"col_heading level0 col7\" >4</th>        <th class=\"col_heading level0 col8\" >3</th>        <th class=\"col_heading level0 col9\" >2</th>        <th class=\"col_heading level0 col10\" >1</th>    </tr></thead><tbody>\n",
       "                <tr>\n",
       "                        <th id=\"T_63d2132e_15b9_11ea_9ac4_784f43554d73level0_row0\" class=\"row_heading level0 row0\" >1</th>\n",
       "                        <td id=\"T_63d2132e_15b9_11ea_9ac4_784f43554d73row0_col0\" class=\"data row0 col0\" >0.775</td>\n",
       "                        <td id=\"T_63d2132e_15b9_11ea_9ac4_784f43554d73row0_col1\" class=\"data row0 col1\" >0.775</td>\n",
       "                        <td id=\"T_63d2132e_15b9_11ea_9ac4_784f43554d73row0_col2\" class=\"data row0 col2\" >0.78125</td>\n",
       "                        <td id=\"T_63d2132e_15b9_11ea_9ac4_784f43554d73row0_col3\" class=\"data row0 col3\" >0.78125</td>\n",
       "                        <td id=\"T_63d2132e_15b9_11ea_9ac4_784f43554d73row0_col4\" class=\"data row0 col4\" >0.86875</td>\n",
       "                        <td id=\"T_63d2132e_15b9_11ea_9ac4_784f43554d73row0_col5\" class=\"data row0 col5\" >0.859375</td>\n",
       "                        <td id=\"T_63d2132e_15b9_11ea_9ac4_784f43554d73row0_col6\" class=\"data row0 col6\" >0.75625</td>\n",
       "                        <td id=\"T_63d2132e_15b9_11ea_9ac4_784f43554d73row0_col7\" class=\"data row0 col7\" >0.7125</td>\n",
       "                        <td id=\"T_63d2132e_15b9_11ea_9ac4_784f43554d73row0_col8\" class=\"data row0 col8\" >0.778125</td>\n",
       "                        <td id=\"T_63d2132e_15b9_11ea_9ac4_784f43554d73row0_col9\" class=\"data row0 col9\" >1.30312</td>\n",
       "                        <td id=\"T_63d2132e_15b9_11ea_9ac4_784f43554d73row0_col10\" class=\"data row0 col10\" >1.49375</td>\n",
       "            </tr>\n",
       "            <tr>\n",
       "                        <th id=\"T_63d2132e_15b9_11ea_9ac4_784f43554d73level0_row1\" class=\"row_heading level0 row1\" >5</th>\n",
       "                        <td id=\"T_63d2132e_15b9_11ea_9ac4_784f43554d73row1_col0\" class=\"data row1 col0\" >0.671875</td>\n",
       "                        <td id=\"T_63d2132e_15b9_11ea_9ac4_784f43554d73row1_col1\" class=\"data row1 col1\" >0.671875</td>\n",
       "                        <td id=\"T_63d2132e_15b9_11ea_9ac4_784f43554d73row1_col2\" class=\"data row1 col2\" >0.671875</td>\n",
       "                        <td id=\"T_63d2132e_15b9_11ea_9ac4_784f43554d73row1_col3\" class=\"data row1 col3\" >0.671875</td>\n",
       "                        <td id=\"T_63d2132e_15b9_11ea_9ac4_784f43554d73row1_col4\" class=\"data row1 col4\" >0.728125</td>\n",
       "                        <td id=\"T_63d2132e_15b9_11ea_9ac4_784f43554d73row1_col5\" class=\"data row1 col5\" >0.7125</td>\n",
       "                        <td id=\"T_63d2132e_15b9_11ea_9ac4_784f43554d73row1_col6\" class=\"data row1 col6\" >0.69375</td>\n",
       "                        <td id=\"T_63d2132e_15b9_11ea_9ac4_784f43554d73row1_col7\" class=\"data row1 col7\" >0.7</td>\n",
       "                        <td id=\"T_63d2132e_15b9_11ea_9ac4_784f43554d73row1_col8\" class=\"data row1 col8\" >0.671875</td>\n",
       "                        <td id=\"T_63d2132e_15b9_11ea_9ac4_784f43554d73row1_col9\" class=\"data row1 col9\" >0.790625</td>\n",
       "                        <td id=\"T_63d2132e_15b9_11ea_9ac4_784f43554d73row1_col10\" class=\"data row1 col10\" >1.03437</td>\n",
       "            </tr>\n",
       "            <tr>\n",
       "                        <th id=\"T_63d2132e_15b9_11ea_9ac4_784f43554d73level0_row2\" class=\"row_heading level0 row2\" >10</th>\n",
       "                        <td id=\"T_63d2132e_15b9_11ea_9ac4_784f43554d73row2_col0\" class=\"data row2 col0\" >0.61875</td>\n",
       "                        <td id=\"T_63d2132e_15b9_11ea_9ac4_784f43554d73row2_col1\" class=\"data row2 col1\" >0.61875</td>\n",
       "                        <td id=\"T_63d2132e_15b9_11ea_9ac4_784f43554d73row2_col2\" class=\"data row2 col2\" >0.621875</td>\n",
       "                        <td id=\"T_63d2132e_15b9_11ea_9ac4_784f43554d73row2_col3\" class=\"data row2 col3\" >0.621875</td>\n",
       "                        <td id=\"T_63d2132e_15b9_11ea_9ac4_784f43554d73row2_col4\" class=\"data row2 col4\" >0.6125</td>\n",
       "                        <td id=\"T_63d2132e_15b9_11ea_9ac4_784f43554d73row2_col5\" class=\"data row2 col5\" >0.609375</td>\n",
       "                        <td id=\"T_63d2132e_15b9_11ea_9ac4_784f43554d73row2_col6\" class=\"data row2 col6\" >0.615625</td>\n",
       "                        <td id=\"T_63d2132e_15b9_11ea_9ac4_784f43554d73row2_col7\" class=\"data row2 col7\" >0.6125</td>\n",
       "                        <td id=\"T_63d2132e_15b9_11ea_9ac4_784f43554d73row2_col8\" class=\"data row2 col8\" >0.634375</td>\n",
       "                        <td id=\"T_63d2132e_15b9_11ea_9ac4_784f43554d73row2_col9\" class=\"data row2 col9\" >0.71875</td>\n",
       "                        <td id=\"T_63d2132e_15b9_11ea_9ac4_784f43554d73row2_col10\" class=\"data row2 col10\" >0.8125</td>\n",
       "            </tr>\n",
       "            <tr>\n",
       "                        <th id=\"T_63d2132e_15b9_11ea_9ac4_784f43554d73level0_row3\" class=\"row_heading level0 row3\" >15</th>\n",
       "                        <td id=\"T_63d2132e_15b9_11ea_9ac4_784f43554d73row3_col0\" class=\"data row3 col0\" >0.56875</td>\n",
       "                        <td id=\"T_63d2132e_15b9_11ea_9ac4_784f43554d73row3_col1\" class=\"data row3 col1\" >0.56875</td>\n",
       "                        <td id=\"T_63d2132e_15b9_11ea_9ac4_784f43554d73row3_col2\" class=\"data row3 col2\" >0.559375</td>\n",
       "                        <td id=\"T_63d2132e_15b9_11ea_9ac4_784f43554d73row3_col3\" class=\"data row3 col3\" >0.559375</td>\n",
       "                        <td id=\"T_63d2132e_15b9_11ea_9ac4_784f43554d73row3_col4\" class=\"data row3 col4\" >0.625</td>\n",
       "                        <td id=\"T_63d2132e_15b9_11ea_9ac4_784f43554d73row3_col5\" class=\"data row3 col5\" >0.625</td>\n",
       "                        <td id=\"T_63d2132e_15b9_11ea_9ac4_784f43554d73row3_col6\" class=\"data row3 col6\" >0.5625</td>\n",
       "                        <td id=\"T_63d2132e_15b9_11ea_9ac4_784f43554d73row3_col7\" class=\"data row3 col7\" >0.565625</td>\n",
       "                        <td id=\"T_63d2132e_15b9_11ea_9ac4_784f43554d73row3_col8\" class=\"data row3 col8\" >0.5625</td>\n",
       "                        <td id=\"T_63d2132e_15b9_11ea_9ac4_784f43554d73row3_col9\" class=\"data row3 col9\" >0.690625</td>\n",
       "                        <td id=\"T_63d2132e_15b9_11ea_9ac4_784f43554d73row3_col10\" class=\"data row3 col10\" >0.775</td>\n",
       "            </tr>\n",
       "            <tr>\n",
       "                        <th id=\"T_63d2132e_15b9_11ea_9ac4_784f43554d73level0_row4\" class=\"row_heading level0 row4\" >20</th>\n",
       "                        <td id=\"T_63d2132e_15b9_11ea_9ac4_784f43554d73row4_col0\" class=\"data row4 col0\" >0.590625</td>\n",
       "                        <td id=\"T_63d2132e_15b9_11ea_9ac4_784f43554d73row4_col1\" class=\"data row4 col1\" >0.590625</td>\n",
       "                        <td id=\"T_63d2132e_15b9_11ea_9ac4_784f43554d73row4_col2\" class=\"data row4 col2\" >0.596875</td>\n",
       "                        <td id=\"T_63d2132e_15b9_11ea_9ac4_784f43554d73row4_col3\" class=\"data row4 col3\" >0.596875</td>\n",
       "                        <td id=\"T_63d2132e_15b9_11ea_9ac4_784f43554d73row4_col4\" class=\"data row4 col4\" >0.54375</td>\n",
       "                        <td id=\"T_63d2132e_15b9_11ea_9ac4_784f43554d73row4_col5\" class=\"data row4 col5\" >0.559375</td>\n",
       "                        <td id=\"T_63d2132e_15b9_11ea_9ac4_784f43554d73row4_col6\" class=\"data row4 col6\" >0.53125</td>\n",
       "                        <td id=\"T_63d2132e_15b9_11ea_9ac4_784f43554d73row4_col7\" class=\"data row4 col7\" >0.546875</td>\n",
       "                        <td id=\"T_63d2132e_15b9_11ea_9ac4_784f43554d73row4_col8\" class=\"data row4 col8\" >0.54375</td>\n",
       "                        <td id=\"T_63d2132e_15b9_11ea_9ac4_784f43554d73row4_col9\" class=\"data row4 col9\" >0.6625</td>\n",
       "                        <td id=\"T_63d2132e_15b9_11ea_9ac4_784f43554d73row4_col10\" class=\"data row4 col10\" >0.725</td>\n",
       "            </tr>\n",
       "            <tr>\n",
       "                        <th id=\"T_63d2132e_15b9_11ea_9ac4_784f43554d73level0_row5\" class=\"row_heading level0 row5\" >25</th>\n",
       "                        <td id=\"T_63d2132e_15b9_11ea_9ac4_784f43554d73row5_col0\" class=\"data row5 col0\" >0.565625</td>\n",
       "                        <td id=\"T_63d2132e_15b9_11ea_9ac4_784f43554d73row5_col1\" class=\"data row5 col1\" >0.565625</td>\n",
       "                        <td id=\"T_63d2132e_15b9_11ea_9ac4_784f43554d73row5_col2\" class=\"data row5 col2\" >0.565625</td>\n",
       "                        <td id=\"T_63d2132e_15b9_11ea_9ac4_784f43554d73row5_col3\" class=\"data row5 col3\" >0.5625</td>\n",
       "                        <td id=\"T_63d2132e_15b9_11ea_9ac4_784f43554d73row5_col4\" class=\"data row5 col4\" >0.559375</td>\n",
       "                        <td id=\"T_63d2132e_15b9_11ea_9ac4_784f43554d73row5_col5\" class=\"data row5 col5\" >0.546875</td>\n",
       "                        <td id=\"T_63d2132e_15b9_11ea_9ac4_784f43554d73row5_col6\" class=\"data row5 col6\" >0.565625</td>\n",
       "                        <td id=\"T_63d2132e_15b9_11ea_9ac4_784f43554d73row5_col7\" class=\"data row5 col7\" >0.5625</td>\n",
       "                        <td id=\"T_63d2132e_15b9_11ea_9ac4_784f43554d73row5_col8\" class=\"data row5 col8\" >0.596875</td>\n",
       "                        <td id=\"T_63d2132e_15b9_11ea_9ac4_784f43554d73row5_col9\" class=\"data row5 col9\" >0.646875</td>\n",
       "                        <td id=\"T_63d2132e_15b9_11ea_9ac4_784f43554d73row5_col10\" class=\"data row5 col10\" >0.690625</td>\n",
       "            </tr>\n",
       "            <tr>\n",
       "                        <th id=\"T_63d2132e_15b9_11ea_9ac4_784f43554d73level0_row6\" class=\"row_heading level0 row6\" >30</th>\n",
       "                        <td id=\"T_63d2132e_15b9_11ea_9ac4_784f43554d73row6_col0\" class=\"data row6 col0\" >0.609375</td>\n",
       "                        <td id=\"T_63d2132e_15b9_11ea_9ac4_784f43554d73row6_col1\" class=\"data row6 col1\" >0.609375</td>\n",
       "                        <td id=\"T_63d2132e_15b9_11ea_9ac4_784f43554d73row6_col2\" class=\"data row6 col2\" >0.609375</td>\n",
       "                        <td id=\"T_63d2132e_15b9_11ea_9ac4_784f43554d73row6_col3\" class=\"data row6 col3\" >0.609375</td>\n",
       "                        <td id=\"T_63d2132e_15b9_11ea_9ac4_784f43554d73row6_col4\" class=\"data row6 col4\" >0.553125</td>\n",
       "                        <td id=\"T_63d2132e_15b9_11ea_9ac4_784f43554d73row6_col5\" class=\"data row6 col5\" >0.5625</td>\n",
       "                        <td id=\"T_63d2132e_15b9_11ea_9ac4_784f43554d73row6_col6\" class=\"data row6 col6\" >0.528125</td>\n",
       "                        <td id=\"T_63d2132e_15b9_11ea_9ac4_784f43554d73row6_col7\" class=\"data row6 col7\" >0.534375</td>\n",
       "                        <td id=\"T_63d2132e_15b9_11ea_9ac4_784f43554d73row6_col8\" class=\"data row6 col8\" >0.540625</td>\n",
       "                        <td id=\"T_63d2132e_15b9_11ea_9ac4_784f43554d73row6_col9\" class=\"data row6 col9\" >0.63125</td>\n",
       "                        <td id=\"T_63d2132e_15b9_11ea_9ac4_784f43554d73row6_col10\" class=\"data row6 col10\" >0.734375</td>\n",
       "            </tr>\n",
       "            <tr>\n",
       "                        <th id=\"T_63d2132e_15b9_11ea_9ac4_784f43554d73level0_row7\" class=\"row_heading level0 row7\" >35</th>\n",
       "                        <td id=\"T_63d2132e_15b9_11ea_9ac4_784f43554d73row7_col0\" class=\"data row7 col0\" >0.59375</td>\n",
       "                        <td id=\"T_63d2132e_15b9_11ea_9ac4_784f43554d73row7_col1\" class=\"data row7 col1\" >0.59375</td>\n",
       "                        <td id=\"T_63d2132e_15b9_11ea_9ac4_784f43554d73row7_col2\" class=\"data row7 col2\" >0.596875</td>\n",
       "                        <td id=\"T_63d2132e_15b9_11ea_9ac4_784f43554d73row7_col3\" class=\"data row7 col3\" >0.596875</td>\n",
       "                        <td id=\"T_63d2132e_15b9_11ea_9ac4_784f43554d73row7_col4\" class=\"data row7 col4\" >0.571875</td>\n",
       "                        <td id=\"T_63d2132e_15b9_11ea_9ac4_784f43554d73row7_col5\" class=\"data row7 col5\" >0.571875</td>\n",
       "                        <td id=\"T_63d2132e_15b9_11ea_9ac4_784f43554d73row7_col6\" class=\"data row7 col6\" >0.578125</td>\n",
       "                        <td id=\"T_63d2132e_15b9_11ea_9ac4_784f43554d73row7_col7\" class=\"data row7 col7\" >0.5875</td>\n",
       "                        <td id=\"T_63d2132e_15b9_11ea_9ac4_784f43554d73row7_col8\" class=\"data row7 col8\" >0.56875</td>\n",
       "                        <td id=\"T_63d2132e_15b9_11ea_9ac4_784f43554d73row7_col9\" class=\"data row7 col9\" >0.628125</td>\n",
       "                        <td id=\"T_63d2132e_15b9_11ea_9ac4_784f43554d73row7_col10\" class=\"data row7 col10\" >0.75</td>\n",
       "            </tr>\n",
       "            <tr>\n",
       "                        <th id=\"T_63d2132e_15b9_11ea_9ac4_784f43554d73level0_row8\" class=\"row_heading level0 row8\" >40</th>\n",
       "                        <td id=\"T_63d2132e_15b9_11ea_9ac4_784f43554d73row8_col0\" class=\"data row8 col0\" >0.603125</td>\n",
       "                        <td id=\"T_63d2132e_15b9_11ea_9ac4_784f43554d73row8_col1\" class=\"data row8 col1\" >0.603125</td>\n",
       "                        <td id=\"T_63d2132e_15b9_11ea_9ac4_784f43554d73row8_col2\" class=\"data row8 col2\" >0.60625</td>\n",
       "                        <td id=\"T_63d2132e_15b9_11ea_9ac4_784f43554d73row8_col3\" class=\"data row8 col3\" >0.60625</td>\n",
       "                        <td id=\"T_63d2132e_15b9_11ea_9ac4_784f43554d73row8_col4\" class=\"data row8 col4\" >0.60625</td>\n",
       "                        <td id=\"T_63d2132e_15b9_11ea_9ac4_784f43554d73row8_col5\" class=\"data row8 col5\" >0.621875</td>\n",
       "                        <td id=\"T_63d2132e_15b9_11ea_9ac4_784f43554d73row8_col6\" class=\"data row8 col6\" >0.58125</td>\n",
       "                        <td id=\"T_63d2132e_15b9_11ea_9ac4_784f43554d73row8_col7\" class=\"data row8 col7\" >0.6</td>\n",
       "                        <td id=\"T_63d2132e_15b9_11ea_9ac4_784f43554d73row8_col8\" class=\"data row8 col8\" >0.590625</td>\n",
       "                        <td id=\"T_63d2132e_15b9_11ea_9ac4_784f43554d73row8_col9\" class=\"data row8 col9\" >0.66875</td>\n",
       "                        <td id=\"T_63d2132e_15b9_11ea_9ac4_784f43554d73row8_col10\" class=\"data row8 col10\" >0.73125</td>\n",
       "            </tr>\n",
       "            <tr>\n",
       "                        <th id=\"T_63d2132e_15b9_11ea_9ac4_784f43554d73level0_row9\" class=\"row_heading level0 row9\" >45</th>\n",
       "                        <td id=\"T_63d2132e_15b9_11ea_9ac4_784f43554d73row9_col0\" class=\"data row9 col0\" >0.63125</td>\n",
       "                        <td id=\"T_63d2132e_15b9_11ea_9ac4_784f43554d73row9_col1\" class=\"data row9 col1\" >0.63125</td>\n",
       "                        <td id=\"T_63d2132e_15b9_11ea_9ac4_784f43554d73row9_col2\" class=\"data row9 col2\" >0.63125</td>\n",
       "                        <td id=\"T_63d2132e_15b9_11ea_9ac4_784f43554d73row9_col3\" class=\"data row9 col3\" >0.63125</td>\n",
       "                        <td id=\"T_63d2132e_15b9_11ea_9ac4_784f43554d73row9_col4\" class=\"data row9 col4\" >0.640625</td>\n",
       "                        <td id=\"T_63d2132e_15b9_11ea_9ac4_784f43554d73row9_col5\" class=\"data row9 col5\" >0.65</td>\n",
       "                        <td id=\"T_63d2132e_15b9_11ea_9ac4_784f43554d73row9_col6\" class=\"data row9 col6\" >0.56875</td>\n",
       "                        <td id=\"T_63d2132e_15b9_11ea_9ac4_784f43554d73row9_col7\" class=\"data row9 col7\" >0.596875</td>\n",
       "                        <td id=\"T_63d2132e_15b9_11ea_9ac4_784f43554d73row9_col8\" class=\"data row9 col8\" >0.6</td>\n",
       "                        <td id=\"T_63d2132e_15b9_11ea_9ac4_784f43554d73row9_col9\" class=\"data row9 col9\" >0.659375</td>\n",
       "                        <td id=\"T_63d2132e_15b9_11ea_9ac4_784f43554d73row9_col10\" class=\"data row9 col10\" >0.796875</td>\n",
       "            </tr>\n",
       "    </tbody></table>"
      ],
      "text/plain": [
       "<pandas.io.formats.style.Styler at 0x1a18d56400>"
      ]
     },
     "execution_count": 73,
     "metadata": {},
     "output_type": "execute_result"
    }
   ],
   "source": [
    "k_dat = pd.DataFrame(kbest_mses)\n",
    "k_dat.style.apply(lambda s: ['background-color: yellow' if v else '' for v in s == s.min()])"
   ]
  }
 ],
 "metadata": {
  "colab": {
   "collapsed_sections": [],
   "name": "COGS 109 WINE PROJECT",
   "provenance": []
  },
  "kernelspec": {
   "display_name": "Python 3",
   "language": "python",
   "name": "python3"
  },
  "language_info": {
   "codemirror_mode": {
    "name": "ipython",
    "version": 3
   },
   "file_extension": ".py",
   "mimetype": "text/x-python",
   "name": "python",
   "nbconvert_exporter": "python",
   "pygments_lexer": "ipython3",
   "version": "3.6.8"
  }
 },
 "nbformat": 4,
 "nbformat_minor": 1
}
